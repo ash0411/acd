{
 "cells": [
  {
   "cell_type": "code",
   "execution_count": 4,
   "metadata": {},
   "outputs": [],
   "source": [
    "n=0\n",
    "def grammar_check(grammar):# for finding the type of grammar \n",
    "    for i in grammar:\n",
    "        if i[\"alpha\"].isupper():#condition for type 0\n",
    "            i['type'].append(\"type0\")\n",
    "            if i['n_alpha']<=i['n_beta']:#condition for type 1\n",
    "                if 'S' in i[\"alpha\"]:\n",
    "                    if 'L' in i[\"beta\"]:\n",
    "                        n=1\n",
    "                if 'S' in i[\"beta\"]:\n",
    "                    if n==1:\n",
    "                        continue\n",
    "                i['type'].append(\"type1\")\n",
    "                if i['n_alpha']==1:#condition for type 2\n",
    "                    i['type'].append(\"type2\")\n",
    "                    if i['beta'][0].isupper() and i['beta'][1:].islower():# condition for type3\n",
    "                        i['type'].append(\"type3\")\n",
    "                        alignment.append(\"left\")\n",
    "                    if i['beta'][-1].isupper() and i['beta'][:-1].islower():\n",
    "                        i['type'].append(\"type3\")\n",
    "                        alignment.append(\"right\")\n",
    "                    if i['beta'].islower():\n",
    "                        i['type'].append(\"type3\")\n",
    "        print(i)"
   ]
  },
  {
   "cell_type": "code",
   "execution_count": 5,
   "metadata": {},
   "outputs": [
    {
     "name": "stdout",
     "output_type": "stream",
     "text": [
      "enter the number of grammar rules -2\n",
      "enter the alpha Cside-SDJAK\n",
      "enter the beta sidesadjsdlk\n",
      "enter the alpha Cside-SD\n",
      "enter the beta sidedssd\n",
      "SDJAK->sadjsdlk\n",
      "SD->dssd\n",
      "{'alpha': 'SDJAK', 'beta': 'sadjsdlk', 'n_alpha': 5, 'n_beta': 8, 'type': ['type0', 'type1']}\n",
      "{'alpha': 'SD', 'beta': 'dssd', 'n_alpha': 2, 'n_beta': 4, 'type': ['type0', 'type1']}\n"
     ]
    }
   ],
   "source": [
    "grammar=[]#a list of dictionary containing all the rules\n",
    "alignment=[]#for checking if it is left or right alignment\n",
    "m= int(input(\"enter the number of grammar rules -\"))\n",
    "for c in range(m):\n",
    "    gram={}\n",
    "    gram['alpha']=input(\"enter the alpha Cside-\")\n",
    "    gram['beta']= input(\"enter the beta side\")\n",
    "    gram['n_alpha']=len(gram['alpha'])\n",
    "    gram['n_beta']=len(gram['beta'])\n",
    "    gram['type']=[]\n",
    "    grammar.append(gram)\n",
    "for i in grammar:\n",
    "        print(i[\"alpha\"]+\"->\"+i[\"beta\"])\n",
    "#gram[\"beta\"][1:]\n",
    "grammar_check(grammar)\n"
   ]
  },
  {
   "cell_type": "code",
   "execution_count": 6,
   "metadata": {},
   "outputs": [
    {
     "name": "stdout",
     "output_type": "stream",
     "text": [
      "the grammar is of type 1\n"
     ]
    }
   ],
   "source": [
    "types=list()#for storing the types of grammar in every rule\n",
    "for items in grammar:\n",
    "    a=set(items[\"type\"])\n",
    "    types.append(a)\n",
    "if m==1:#if there is only one rule\n",
    "    extr=list()\n",
    "    for i in grammar:\n",
    "        extr.append(i[\"type\"][-1])\n",
    "    print(extr)\n",
    "    print(\"the grammar is of type\"+max(extr))\n",
    "else:#if there is more than 1 rule\n",
    "    c=types[0].intersection(types[1])\n",
    "    for i in range(2,n):\n",
    "        c=c.intersection(types[i])\n",
    "    c=list(c)        \n",
    "    extract=list()\n",
    "    for ele in c:\n",
    "        extract.append(int(ele[-1]))#for extracting the last integers containing the type number in the string\n",
    "    if \"right\" in alignment:\n",
    "        if \"left\" in alignment:\n",
    "            if max(extract) == 3:\n",
    "                print(\"the grammar is of type\",max(extract)-1)#if it is both left and right alignment\n",
    "        else:\n",
    "            print(\"the grammar is of type\",max(extract))\n",
    "    else:\n",
    "        print(\"the grammar is of type\",max(extract))"
   ]
  },
  {
   "cell_type": "code",
   "execution_count": null,
   "metadata": {},
   "outputs": [],
   "source": []
  }
 ],
 "metadata": {
  "kernelspec": {
   "display_name": "Python 3",
   "language": "python",
   "name": "python3"
  },
  "language_info": {
   "codemirror_mode": {
    "name": "ipython",
    "version": 3
   },
   "file_extension": ".py",
   "mimetype": "text/x-python",
   "name": "python",
   "nbconvert_exporter": "python",
   "pygments_lexer": "ipython3",
   "version": "3.6.8"
  }
 },
 "nbformat": 4,
 "nbformat_minor": 2
}
