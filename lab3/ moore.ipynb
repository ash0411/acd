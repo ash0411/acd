{
 "cells": [
  {
   "cell_type": "code",
   "execution_count": 1,
   "metadata": {},
   "outputs": [],
   "source": [
    "def moore_machine(a):\n",
    "    states=list()\n",
    "    ns=0\n",
    "    states.append(ns)\n",
    "    for i in range(0,len(a)):\n",
    "        state=ns\n",
    "        if state==0:\n",
    "            if a[i]==0:\n",
    "                ns=0\n",
    "            if a[i]==1:\n",
    "                ns=1\n",
    "        if state==1:\n",
    "            if a[i]==0:\n",
    "                ns=2\n",
    "            if a[i]==1:\n",
    "                ns=1\n",
    "        if state==2:\n",
    "            if a[i]==0:\n",
    "                ns=0\n",
    "            if a[i]==1:\n",
    "                ns=3\n",
    "        if state==3:\n",
    "            if a[i]==0:\n",
    "                ns=2\n",
    "            if a[i]==1:\n",
    "                ns=1\n",
    "        states.append(ns)\n",
    "    compare(states)"
   ]
  },
  {
   "cell_type": "code",
   "execution_count": 3,
   "metadata": {},
   "outputs": [],
   "source": [
    "def compare(states):\n",
    "    for i in range(1,len(states)):\n",
    "        if states[i] == 0:\n",
    "            print('F',end='')\n",
    "        if states[i] == 1:\n",
    "            print('F',end='')\n",
    "        if states[i] == 2:\n",
    "            print('F',end='')\n",
    "        if states[i] == 3:\n",
    "            print('T',end='')            "
   ]
  },
  {
   "cell_type": "code",
   "execution_count": 4,
   "metadata": {},
   "outputs": [
    {
     "name": "stdout",
     "output_type": "stream",
     "text": [
      "enter the number of element-5\n",
      "enter the string1\n",
      "enter the string0\n",
      "enter the string1\n",
      "enter the string0\n",
      "enter the string1\n",
      "FFTFT"
     ]
    }
   ],
   "source": [
    "a=list()\n",
    "num=int(input(\"enter the number of element-\"))\n",
    "for i in range(num):\n",
    "    ele=int(input(\"enter the string\"))\n",
    "    a.append(ele)\n",
    "moore_machine(a)"
   ]
  },
  {
   "cell_type": "code",
   "execution_count": null,
   "metadata": {},
   "outputs": [],
   "source": []
  }
 ],
 "metadata": {
  "kernelspec": {
   "display_name": "Python 3",
   "language": "python",
   "name": "python3"
  },
  "language_info": {
   "codemirror_mode": {
    "name": "ipython",
    "version": 3
   },
   "file_extension": ".py",
   "mimetype": "text/x-python",
   "name": "python",
   "nbconvert_exporter": "python",
   "pygments_lexer": "ipython3",
   "version": "3.6.8"
  }
 },
 "nbformat": 4,
 "nbformat_minor": 2
}
