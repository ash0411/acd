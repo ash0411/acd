{
 "cells": [
  {
   "cell_type": "code",
   "execution_count": 15,
   "metadata": {},
   "outputs": [],
   "source": [
    "def compliment2(a):\n",
    "    ns=0\n",
    "    res= \"\"\n",
    "    for i in range(len(a)-1,-1,-1):\n",
    "        state=ns\n",
    "        if state==0:\n",
    "            if a[i]==0:\n",
    "                ns=0\n",
    "            if a[i]==1:\n",
    "                ns=2\n",
    "        if state==1:\n",
    "            if a[i]==0:\n",
    "                ns=2\n",
    "            if a[i]==1:\n",
    "                ns=1\n",
    "        if state ==2:\n",
    "            if a[i]==0:\n",
    "                ns=2\n",
    "            if a[i] ==1:\n",
    "                ns=1\n",
    "        result=compare(ns)\n",
    "        res = str(result) +res \n",
    "    print(res)"
   ]
  },
  {
   "cell_type": "code",
   "execution_count": 16,
   "metadata": {},
   "outputs": [],
   "source": [
    "def compare(ns):\n",
    "    if ns==0:\n",
    "        return 0\n",
    "    if ns ==1 :\n",
    "        return 0\n",
    "    if ns ==2:\n",
    "        return 1"
   ]
  },
  {
   "cell_type": "code",
   "execution_count": 18,
   "metadata": {},
   "outputs": [
    {
     "name": "stdout",
     "output_type": "stream",
     "text": [
      "enter the number of element-6\n",
      "enter the string1\n",
      "enter the string0\n",
      "enter the string1\n",
      "enter the string0\n",
      "enter the string1\n",
      "enter the string0\n",
      "010110\n"
     ]
    }
   ],
   "source": [
    "a=list()\n",
    "num=int(input(\"enter the number of element-\"))\n",
    "for i in range(num):\n",
    "    ele=int(input(\"enter the string\"))\n",
    "    a.append(ele)\n",
    "compliment2(a)"
   ]
  },
  {
   "cell_type": "code",
   "execution_count": null,
   "metadata": {},
   "outputs": [],
   "source": []
  },
  {
   "cell_type": "code",
   "execution_count": null,
   "metadata": {},
   "outputs": [],
   "source": []
  }
 ],
 "metadata": {
  "kernelspec": {
   "display_name": "Python 3",
   "language": "python",
   "name": "python3"
  },
  "language_info": {
   "codemirror_mode": {
    "name": "ipython",
    "version": 3
   },
   "file_extension": ".py",
   "mimetype": "text/x-python",
   "name": "python",
   "nbconvert_exporter": "python",
   "pygments_lexer": "ipython3",
   "version": "3.6.8"
  }
 },
 "nbformat": 4,
 "nbformat_minor": 2
}
