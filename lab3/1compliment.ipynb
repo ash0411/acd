{
 "cells": [
  {
   "cell_type": "code",
   "execution_count": 3,
   "metadata": {},
   "outputs": [],
   "source": [
    "def compliment(a):\n",
    "    for i in range(len(a)):\n",
    "        if a[i]==0:\n",
    "            print((a[i]+1)%2,end='')\n",
    "        if a[i]==1:\n",
    "            print((a[i]+1)%2,end='')"
   ]
  },
  {
   "cell_type": "code",
   "execution_count": 4,
   "metadata": {},
   "outputs": [
    {
     "name": "stdout",
     "output_type": "stream",
     "text": [
      "enter the number of element-5\n",
      "enter the string1\n",
      "enter the string1\n",
      "enter the string1\n",
      "enter the string1\n",
      "enter the string1\n",
      "00000"
     ]
    }
   ],
   "source": [
    "a=list()\n",
    "num=int(input(\"enter the number of element-\"))\n",
    "for i in range(num):\n",
    "    ele=int(input(\"enter the string\"))\n",
    "    a.append(ele)\n",
    "compliment(a)"
   ]
  },
  {
   "cell_type": "code",
   "execution_count": null,
   "metadata": {},
   "outputs": [],
   "source": []
  },
  {
   "cell_type": "code",
   "execution_count": null,
   "metadata": {},
   "outputs": [],
   "source": []
  }
 ],
 "metadata": {
  "kernelspec": {
   "display_name": "Python 3",
   "language": "python",
   "name": "python3"
  },
  "language_info": {
   "codemirror_mode": {
    "name": "ipython",
    "version": 3
   },
   "file_extension": ".py",
   "mimetype": "text/x-python",
   "name": "python",
   "nbconvert_exporter": "python",
   "pygments_lexer": "ipython3",
   "version": "3.6.8"
  }
 },
 "nbformat": 4,
 "nbformat_minor": 2
}
