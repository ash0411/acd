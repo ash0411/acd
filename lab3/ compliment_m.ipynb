{
 "cells": [
  {
   "cell_type": "code",
   "execution_count": 6,
   "metadata": {},
   "outputs": [],
   "source": [
    "def compliment(a):\n",
    "    states = list()\n",
    "    ns=0\n",
    "    states.append(ns)\n",
    "    for i in range(len(a)):\n",
    "        state=ns\n",
    "        if state==0:\n",
    "            if a[i]==0:\n",
    "                ns=1\n",
    "            if a[i]==1:\n",
    "                ns=0\n",
    "        if state==1:\n",
    "            if a[i]==0:\n",
    "                ns=1\n",
    "            if a[i]==1:\n",
    "                ns=0\n",
    "        states.append(ns)\n",
    "    for i in range(1,len(states)):\n",
    "        print(states[i],end='')"
   ]
  },
  {
   "cell_type": "code",
   "execution_count": 7,
   "metadata": {},
   "outputs": [
    {
     "name": "stdout",
     "output_type": "stream",
     "text": [
      "enter the number of element-5\n",
      "enter the string1\n",
      "enter the string1\n",
      "enter the string1\n",
      "enter the string0\n",
      "enter the string0\n",
      "00011"
     ]
    }
   ],
   "source": [
    "a=list()\n",
    "num=int(input(\"enter the number of element-\"))\n",
    "for i in range(num):\n",
    "    ele=int(input(\"enter the string\"))\n",
    "    a.append(ele)\n",
    "compliment(a)"
   ]
  },
  {
   "cell_type": "code",
   "execution_count": null,
   "metadata": {},
   "outputs": [],
   "source": []
  }
 ],
 "metadata": {
  "kernelspec": {
   "display_name": "Python 3",
   "language": "python",
   "name": "python3"
  },
  "language_info": {
   "codemirror_mode": {
    "name": "ipython",
    "version": 3
   },
   "file_extension": ".py",
   "mimetype": "text/x-python",
   "name": "python",
   "nbconvert_exporter": "python",
   "pygments_lexer": "ipython3",
   "version": "3.6.8"
  }
 },
 "nbformat": 4,
 "nbformat_minor": 2
}
